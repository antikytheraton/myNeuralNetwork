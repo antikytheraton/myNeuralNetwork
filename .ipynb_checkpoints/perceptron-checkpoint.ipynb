{
 "cells": [
  {
   "cell_type": "code",
   "execution_count": 9,
   "metadata": {},
   "outputs": [
    {
     "name": "stdout",
     "output_type": "stream",
     "text": [
      "[0 0]: -0.037170723854165366 -> 0\n",
      "[0 1]: 0.5948808331030435 -> 1\n",
      "[1 0]: 0.7468016938615678 -> 1\n",
      "[1 1]: 1.3788532508187765 -> 1\n"
     ]
    }
   ],
   "source": [
    "from random import choice\n",
    "from numpy import array, dot, random\n",
    "\n",
    "unit_step = lambda x: 0 if x < 0 else 1\n",
    "\n",
    "training_data = [\n",
    "    (array([0,0,1]), 0),\n",
    "    (array([0,1,1]), 1),\n",
    "    (array([1,0,1]), 1),\n",
    "    (array([1,1,1]), 1), ]\n",
    "\n",
    "w = random.rand(3)\n",
    "\n",
    "errors = []\n",
    "eta = 0.2 \n",
    "n = 100\n",
    "\n",
    "for i in range(n):\n",
    "    x, expected = choice(training_data)\n",
    "    result = dot(w, x)\n",
    "    error = expected - unit_step(result)\n",
    "    errors.append(error)\n",
    "    w += eta * error * x\n",
    "\n",
    "for x, _ in training_data:\n",
    "    result = dot(x, w)\n",
    "    print(\"{}: {} -> {}\".format(x[:2], result, unit_step(result)))\n"
   ]
  },
  {
   "cell_type": "code",
   "execution_count": 10,
   "metadata": {},
   "outputs": [
    {
     "data": {
      "image/png": "[encoded data removed]",
      "text/plain": [
       "<matplotlib.figure.Figure at 0x7fe9e90cee80>"
      ]
     },
     "metadata": {},
     "output_type": "display_data"
    }
   ],
   "source": [
    "from pylab import plot, ylim, show\n",
    "ylim([-1,1]) \n",
    "plot(errors)\n",
    "show()"
   ]
  },
  {
   "cell_type": "code",
   "execution_count": 11,
   "metadata": {},
   "outputs": [
    {
     "name": "stdout",
     "output_type": "stream",
     "text": [
      "[0 0]: -0.1455992984339627 -> 0\n",
      "[0 1]: 0.25392888854662765 -> 1\n",
      "[1 0]: 0.268753169413002 -> 1\n",
      "[1 1]: 0.6682813563935923 -> 1\n"
     ]
    }
   ],
   "source": [
    "unit_step = lambda x: 0 if x < 0 else 1\n",
    "\n",
    "training_data = [\n",
    "    (array([0,0,1]), 0),\n",
    "    (array([0,1,1]), 1),\n",
    "    (array([1,0,1]), 1),\n",
    "    (array([1,1,1]), 1), ]\n",
    "\n",
    "w = random.rand(3)\n",
    "\n",
    "errors = []\n",
    "eta = 0.2 \n",
    "n = 500\n",
    "\n",
    "for i in range(n):\n",
    "    x, expected = choice(training_data)\n",
    "    result = dot(w, x)\n",
    "    error = expected - unit_step(result)\n",
    "    errors.append(error)\n",
    "    w += eta * error * x\n",
    "\n",
    "for x, _ in training_data:\n",
    "    result = dot(x, w)\n",
    "    print(\"{}: {} -> {}\".format(x[:2], result, unit_step(result)))"
   ]
  },
  {
   "cell_type": "code",
   "execution_count": 12,
   "metadata": {},
   "outputs": [
    {
     "data": {
      "image/png": "[encoded data removed]",
      "text/plain": [
       "<matplotlib.figure.Figure at 0x7fe9e8f2b5c0>"
      ]
     },
     "metadata": {},
     "output_type": "display_data"
    }
   ],
   "source": [
    "from pylab import plot, ylim, show\n",
    "ylim([-1,1]) \n",
    "plot(errors)\n",
    "show()"
   ]
  },
  {
   "cell_type": "code",
   "execution_count": null,
   "metadata": {
    "collapsed": true
   },
   "outputs": [],
   "source": []
  }
 ],
 "metadata": {
  "kernelspec": {
   "display_name": "Python 3",
   "language": "python",
   "name": "python3"
  },
  "language_info": {
   "codemirror_mode": {
    "name": "ipython",
    "version": 3
   },
   "file_extension": ".py",
   "mimetype": "text/x-python",
   "name": "python",
   "nbconvert_exporter": "python",
   "pygments_lexer": "ipython3",
   "version": "3.6.1"
  }
 },
 "nbformat": 4,
 "nbformat_minor": 2
}
